{
  "nbformat": 4,
  "nbformat_minor": 0,
  "metadata": {
    "colab": {
      "name": "Chapter04.ipynb",
      "provenance": [],
      "toc_visible": true,
      "authorship_tag": "ABX9TyPBWA+fszszYSKx67SK3Zzk",
      "include_colab_link": true
    },
    "kernelspec": {
      "name": "python3",
      "display_name": "Python 3"
    }
  },
  "cells": [
    {
      "cell_type": "markdown",
      "metadata": {
        "id": "view-in-github",
        "colab_type": "text"
      },
      "source": [
        "<a href=\"https://colab.research.google.com/github/syscrypto/Python-for-Data-Analysis/blob/main/Chapter04.ipynb\" target=\"_parent\"><img src=\"https://colab.research.google.com/assets/colab-badge.svg\" alt=\"Open In Colab\"/></a>"
      ]
    },
    {
      "cell_type": "markdown",
      "metadata": {
        "id": "PCZA8jkpnThh"
      },
      "source": [
        "# NumPy Basics: Arrays and Vectorized Computation\r\n",
        "- NumPy : Numerical Python의 줄임말로 Python에서 산술 계산에 필요한 필수 패키지\r\n",
        "- 효율적인 다차원 배열 ndarray는 빠른 배열 계산과 브로드캐스팅 기능을 제공\r\n",
        "- 반복문 작성없이 전체 데이터 배열을 빠르게 계산할 수 있는 표준 수학 함수 제공\r\n",
        "- 배열 데이터를 쓰거나 읽을 수 있ㄴ느 도구 와 메모리에 적재된 파일을 다루는 도구\r\n",
        "- 선형대수, 난수 생성기, 푸리에 변환 기능 제공\r\n",
        "- C, C++, 포트란으로 작성한 코드를 연결할 수 있는 C API"
      ]
    },
    {
      "cell_type": "markdown",
      "metadata": {
        "id": "J7VQm2TiIDmg"
      },
      "source": [
        "## Numpy ndarray : 다차원 배열 객체"
      ]
    },
    {
      "cell_type": "code",
      "metadata": {
        "colab": {
          "base_uri": "https://localhost:8080/"
        },
        "id": "bDg-McQPnCrb",
        "outputId": "78c65b73-df70-4f57-a9aa-f60c0013b9c5"
      },
      "source": [
        "import numpy as np\r\n",
        "# 임의의 값 생성\r\n",
        "data = np.random.randn(2, 3)\r\n",
        "data"
      ],
      "execution_count": null,
      "outputs": [
        {
          "output_type": "execute_result",
          "data": {
            "text/plain": [
              "array([[-1.17847438, -0.9878286 , -2.07168972],\n",
              "       [ 1.19903045, -0.04574202, -0.49528079]])"
            ]
          },
          "metadata": {
            "tags": []
          },
          "execution_count": 2
        }
      ]
    },
    {
      "cell_type": "code",
      "metadata": {
        "colab": {
          "base_uri": "https://localhost:8080/"
        },
        "id": "NFw2EepFFqxU",
        "outputId": "dbd696d0-e7f0-4842-e44a-1b7c54a49012"
      },
      "source": [
        "data + data"
      ],
      "execution_count": null,
      "outputs": [
        {
          "output_type": "execute_result",
          "data": {
            "text/plain": [
              "array([[-2.35694875, -1.97565719, -4.14337944],\n",
              "       [ 2.39806091, -0.09148404, -0.99056158]])"
            ]
          },
          "metadata": {
            "tags": []
          },
          "execution_count": 3
        }
      ]
    },
    {
      "cell_type": "code",
      "metadata": {
        "colab": {
          "base_uri": "https://localhost:8080/"
        },
        "id": "k-h2h3UuHtrO",
        "outputId": "97e62037-78e9-441e-e2d2-a479b3ab0508"
      },
      "source": [
        "data*10"
      ],
      "execution_count": null,
      "outputs": [
        {
          "output_type": "execute_result",
          "data": {
            "text/plain": [
              "array([[-11.78474376,  -9.87828595, -20.71689721],\n",
              "       [ 11.99030455,  -0.4574202 ,  -4.9528079 ]])"
            ]
          },
          "metadata": {
            "tags": []
          },
          "execution_count": 5
        }
      ]
    },
    {
      "cell_type": "code",
      "metadata": {
        "colab": {
          "base_uri": "https://localhost:8080/"
        },
        "id": "F4HPjlxDGQo1",
        "outputId": "2dbb4f44-db90-4b6f-bcaf-63ae1f39ba4e"
      },
      "source": [
        "data.shape"
      ],
      "execution_count": null,
      "outputs": [
        {
          "output_type": "execute_result",
          "data": {
            "text/plain": [
              "(2, 3)"
            ]
          },
          "metadata": {
            "tags": []
          },
          "execution_count": 4
        }
      ]
    },
    {
      "cell_type": "code",
      "metadata": {
        "colab": {
          "base_uri": "https://localhost:8080/"
        },
        "id": "Gex8g6CjGnDF",
        "outputId": "23cb153a-3d5f-4055-d347-29a393be52fc"
      },
      "source": [
        "data.dtype"
      ],
      "execution_count": null,
      "outputs": [
        {
          "output_type": "execute_result",
          "data": {
            "text/plain": [
              "dtype('float64')"
            ]
          },
          "metadata": {
            "tags": []
          },
          "execution_count": 6
        }
      ]
    },
    {
      "cell_type": "markdown",
      "metadata": {
        "id": "mmZTkFp9IUJX"
      },
      "source": [
        "### ndarray 생성"
      ]
    },
    {
      "cell_type": "code",
      "metadata": {
        "colab": {
          "base_uri": "https://localhost:8080/"
        },
        "id": "RpQFDvxdH7IG",
        "outputId": "0f4f00e7-d121-420a-b079-d3fd2083776f"
      },
      "source": [
        "data1 = [6, 7.5, 8, 0, 1]\r\n",
        "\r\n",
        "arr1 = np.array(data1)\r\n",
        "\r\n",
        "arr1"
      ],
      "execution_count": null,
      "outputs": [
        {
          "output_type": "execute_result",
          "data": {
            "text/plain": [
              "array([6. , 7.5, 8. , 0. , 1. ])"
            ]
          },
          "metadata": {
            "tags": []
          },
          "execution_count": 7
        }
      ]
    },
    {
      "cell_type": "code",
      "metadata": {
        "colab": {
          "base_uri": "https://localhost:8080/"
        },
        "id": "9Lw4ruM5Ivde",
        "outputId": "fe0e6c02-1387-4490-9819-0b4dd77b4d6e"
      },
      "source": [
        "data2 = [[1, 2, 3, 4], [5, 6, 7, 8]]\r\n",
        "arr2 = np.array(data2)\r\n",
        "arr2"
      ],
      "execution_count": null,
      "outputs": [
        {
          "output_type": "execute_result",
          "data": {
            "text/plain": [
              "array([[1, 2, 3, 4],\n",
              "       [5, 6, 7, 8]])"
            ]
          },
          "metadata": {
            "tags": []
          },
          "execution_count": 8
        }
      ]
    },
    {
      "cell_type": "code",
      "metadata": {
        "colab": {
          "base_uri": "https://localhost:8080/"
        },
        "id": "MTPcXZkgJd6u",
        "outputId": "1a8a8c9f-f0cb-4ae3-f115-1d6039842cd8"
      },
      "source": [
        "arr2.ndim"
      ],
      "execution_count": null,
      "outputs": [
        {
          "output_type": "execute_result",
          "data": {
            "text/plain": [
              "2"
            ]
          },
          "metadata": {
            "tags": []
          },
          "execution_count": 9
        }
      ]
    },
    {
      "cell_type": "code",
      "metadata": {
        "colab": {
          "base_uri": "https://localhost:8080/"
        },
        "id": "eKGUGWOlJ2hF",
        "outputId": "c78b75ab-d7a6-4b03-fcfa-8053edc461b2"
      },
      "source": [
        "arr2.shape"
      ],
      "execution_count": null,
      "outputs": [
        {
          "output_type": "execute_result",
          "data": {
            "text/plain": [
              "(2, 4)"
            ]
          },
          "metadata": {
            "tags": []
          },
          "execution_count": 10
        }
      ]
    },
    {
      "cell_type": "code",
      "metadata": {
        "colab": {
          "base_uri": "https://localhost:8080/"
        },
        "id": "OU1FY_uyJ5Ne",
        "outputId": "8901d345-b0a0-4464-c370-15435d137a69"
      },
      "source": [
        "arr2.dtype"
      ],
      "execution_count": null,
      "outputs": [
        {
          "output_type": "execute_result",
          "data": {
            "text/plain": [
              "dtype('int64')"
            ]
          },
          "metadata": {
            "tags": []
          },
          "execution_count": 11
        }
      ]
    },
    {
      "cell_type": "code",
      "metadata": {
        "colab": {
          "base_uri": "https://localhost:8080/"
        },
        "id": "VCZ8BiXNJ7HV",
        "outputId": "ca82ef42-f392-4954-e01a-283e563c0d81"
      },
      "source": [
        "np.zeros(10)"
      ],
      "execution_count": null,
      "outputs": [
        {
          "output_type": "execute_result",
          "data": {
            "text/plain": [
              "array([0., 0., 0., 0., 0., 0., 0., 0., 0., 0.])"
            ]
          },
          "metadata": {
            "tags": []
          },
          "execution_count": 14
        }
      ]
    },
    {
      "cell_type": "code",
      "metadata": {
        "colab": {
          "base_uri": "https://localhost:8080/"
        },
        "id": "iHDNfYYSKeqE",
        "outputId": "bed53129-bded-49be-ceaa-79e74b74b160"
      },
      "source": [
        "np.zeros((3, 6))"
      ],
      "execution_count": null,
      "outputs": [
        {
          "output_type": "execute_result",
          "data": {
            "text/plain": [
              "array([[0., 0., 0., 0., 0., 0.],\n",
              "       [0., 0., 0., 0., 0., 0.],\n",
              "       [0., 0., 0., 0., 0., 0.]])"
            ]
          },
          "metadata": {
            "tags": []
          },
          "execution_count": 15
        }
      ]
    },
    {
      "cell_type": "code",
      "metadata": {
        "colab": {
          "base_uri": "https://localhost:8080/"
        },
        "id": "hTmVUvxFKn-N",
        "outputId": "bdec2f90-35d2-4861-d794-eaa1bea3ea23"
      },
      "source": [
        "np.zeros((3, 3, 4))"
      ],
      "execution_count": null,
      "outputs": [
        {
          "output_type": "execute_result",
          "data": {
            "text/plain": [
              "array([[[0., 0., 0., 0.],\n",
              "        [0., 0., 0., 0.],\n",
              "        [0., 0., 0., 0.]],\n",
              "\n",
              "       [[0., 0., 0., 0.],\n",
              "        [0., 0., 0., 0.],\n",
              "        [0., 0., 0., 0.]],\n",
              "\n",
              "       [[0., 0., 0., 0.],\n",
              "        [0., 0., 0., 0.],\n",
              "        [0., 0., 0., 0.]]])"
            ]
          },
          "metadata": {
            "tags": []
          },
          "execution_count": 18
        }
      ]
    },
    {
      "cell_type": "code",
      "metadata": {
        "colab": {
          "base_uri": "https://localhost:8080/"
        },
        "id": "QsXOD7kvKwnE",
        "outputId": "7566a5d8-60cc-447d-9f6a-6fd750ef0bf7"
      },
      "source": [
        "np.arange(15)\r\n"
      ],
      "execution_count": null,
      "outputs": [
        {
          "output_type": "execute_result",
          "data": {
            "text/plain": [
              "array([ 0,  1,  2,  3,  4,  5,  6,  7,  8,  9, 10, 11, 12, 13, 14])"
            ]
          },
          "metadata": {
            "tags": []
          },
          "execution_count": 19
        }
      ]
    },
    {
      "cell_type": "code",
      "metadata": {
        "colab": {
          "base_uri": "https://localhost:8080/"
        },
        "id": "qDOgvtk8LH5U",
        "outputId": "57232889-dcc2-4f49-f259-e2d4c1155d4c"
      },
      "source": [
        "ar = np.ones(5)\r\n",
        "ar"
      ],
      "execution_count": null,
      "outputs": [
        {
          "output_type": "execute_result",
          "data": {
            "text/plain": [
              "array([1., 1., 1., 1., 1.])"
            ]
          },
          "metadata": {
            "tags": []
          },
          "execution_count": 26
        }
      ]
    },
    {
      "cell_type": "code",
      "metadata": {
        "colab": {
          "base_uri": "https://localhost:8080/"
        },
        "id": "wfCGIT0YLZPF",
        "outputId": "e2674e3d-f87a-40a2-ecd2-f796cfc038e9"
      },
      "source": [
        "ar.dtype"
      ],
      "execution_count": null,
      "outputs": [
        {
          "output_type": "execute_result",
          "data": {
            "text/plain": [
              "dtype('float64')"
            ]
          },
          "metadata": {
            "tags": []
          },
          "execution_count": 24
        }
      ]
    },
    {
      "cell_type": "code",
      "metadata": {
        "colab": {
          "base_uri": "https://localhost:8080/"
        },
        "id": "9F6fWUZYLeMN",
        "outputId": "8ff80815-fc3b-447b-9126-e1234cc0e2f4"
      },
      "source": [
        "np.ones((2, 3, 2))"
      ],
      "execution_count": null,
      "outputs": [
        {
          "output_type": "execute_result",
          "data": {
            "text/plain": [
              "array([[[1., 1.],\n",
              "        [1., 1.],\n",
              "        [1., 1.]],\n",
              "\n",
              "       [[1., 1.],\n",
              "        [1., 1.],\n",
              "        [1., 1.]]])"
            ]
          },
          "metadata": {
            "tags": []
          },
          "execution_count": 25
        }
      ]
    },
    {
      "cell_type": "markdown",
      "metadata": {
        "id": "ZNZ9v4qOxOQF"
      },
      "source": [
        "### Data Types for ndarrays\r\n",
        "- The data type or dtype is special object containing the information(or metadata, data about data) the ndarray needs to interpret a chunk of memory as a particular type of data."
      ]
    },
    {
      "cell_type": "code",
      "metadata": {
        "colab": {
          "base_uri": "https://localhost:8080/"
        },
        "id": "nJ3sTM4gwkgK",
        "outputId": "c04ae24c-275c-4ebb-aa0d-8a09b929d732"
      },
      "source": [
        "arr1 = np.array([1, 2, 3], dtype=np.float64)\r\n",
        "\r\n",
        "arr2 = np.array([1, 2, 3], dtype=np.int32)\r\n",
        "\r\n",
        "print(arr1.dtype)\r\n",
        "arr2.dtype"
      ],
      "execution_count": null,
      "outputs": [
        {
          "output_type": "stream",
          "text": [
            "float64\n"
          ],
          "name": "stdout"
        },
        {
          "output_type": "execute_result",
          "data": {
            "text/plain": [
              "dtype('int32')"
            ]
          },
          "metadata": {
            "tags": []
          },
          "execution_count": 32
        }
      ]
    },
    {
      "cell_type": "code",
      "metadata": {
        "colab": {
          "base_uri": "https://localhost:8080/"
        },
        "id": "rlPz8Q0H5U2t",
        "outputId": "7f09c633-95b6-4edd-fb7b-a7a01990d7a4"
      },
      "source": [
        "arr1"
      ],
      "execution_count": null,
      "outputs": [
        {
          "output_type": "execute_result",
          "data": {
            "text/plain": [
              "array([1., 2., 3.])"
            ]
          },
          "metadata": {
            "tags": []
          },
          "execution_count": 28
        }
      ]
    },
    {
      "cell_type": "code",
      "metadata": {
        "colab": {
          "base_uri": "https://localhost:8080/"
        },
        "id": "XncRzsVS5XAm",
        "outputId": "8ce39b0c-decc-4ecc-bd17-a81a26e38803"
      },
      "source": [
        "arr2"
      ],
      "execution_count": null,
      "outputs": [
        {
          "output_type": "execute_result",
          "data": {
            "text/plain": [
              "array([1, 2, 3], dtype=int32)"
            ]
          },
          "metadata": {
            "tags": []
          },
          "execution_count": 29
        }
      ]
    },
    {
      "cell_type": "code",
      "metadata": {
        "colab": {
          "base_uri": "https://localhost:8080/"
        },
        "id": "BAKfkEPN5Y6Q",
        "outputId": "9897def0-5014-4318-e781-1bb8bd2f789f"
      },
      "source": [
        "arr = np.array([1, 2, 3, 4, 5])\r\n",
        "print(arr)\r\n",
        "arr.dtype"
      ],
      "execution_count": null,
      "outputs": [
        {
          "output_type": "stream",
          "text": [
            "[1 2 3 4 5]\n"
          ],
          "name": "stdout"
        },
        {
          "output_type": "execute_result",
          "data": {
            "text/plain": [
              "dtype('int64')"
            ]
          },
          "metadata": {
            "tags": []
          },
          "execution_count": 36
        }
      ]
    },
    {
      "cell_type": "markdown",
      "metadata": {
        "id": "5BQ8Vd7r7DZe"
      },
      "source": [
        "- astype method를 사용해서 배열의 dtype을 다른형으로 변환(casting)가능"
      ]
    },
    {
      "cell_type": "code",
      "metadata": {
        "colab": {
          "base_uri": "https://localhost:8080/"
        },
        "id": "it2bi6o26qZ8",
        "outputId": "564f0b66-a7f9-4b3b-dc66-75f6f12a539d"
      },
      "source": [
        "float_arr = arr.astype(np.float64)\r\n",
        "print(float_arr)\r\n",
        "float_arr.dtype"
      ],
      "execution_count": null,
      "outputs": [
        {
          "output_type": "stream",
          "text": [
            "[1. 2. 3. 4. 5.]\n"
          ],
          "name": "stdout"
        },
        {
          "output_type": "execute_result",
          "data": {
            "text/plain": [
              "dtype('float64')"
            ]
          },
          "metadata": {
            "tags": []
          },
          "execution_count": 37
        }
      ]
    },
    {
      "cell_type": "markdown",
      "metadata": {
        "id": "bZ81OYLM8Pbv"
      },
      "source": [
        "- float64 -> int32 로 변환(convert or cast)"
      ]
    },
    {
      "cell_type": "code",
      "metadata": {
        "colab": {
          "base_uri": "https://localhost:8080/"
        },
        "id": "CSPCmAjW6vu_",
        "outputId": "87468e24-b04f-4158-f71e-5cf431718790"
      },
      "source": [
        "arr = np.array([3.7, -1.2, -2.6, 0.5, 12.9, 10.1])\r\n",
        "arr"
      ],
      "execution_count": null,
      "outputs": [
        {
          "output_type": "execute_result",
          "data": {
            "text/plain": [
              "array([ 3.7, -1.2, -2.6,  0.5, 12.9, 10.1])"
            ]
          },
          "metadata": {
            "tags": []
          },
          "execution_count": 39
        }
      ]
    },
    {
      "cell_type": "code",
      "metadata": {
        "colab": {
          "base_uri": "https://localhost:8080/"
        },
        "id": "1g9UHz1y8Bl3",
        "outputId": "8b0d8139-002f-491e-d877-881f0c9674f5"
      },
      "source": [
        "arr.astype(np.int32)"
      ],
      "execution_count": null,
      "outputs": [
        {
          "output_type": "execute_result",
          "data": {
            "text/plain": [
              "array([ 3, -1, -2,  0, 12, 10], dtype=int32)"
            ]
          },
          "metadata": {
            "tags": []
          },
          "execution_count": 40
        }
      ]
    },
    {
      "cell_type": "code",
      "metadata": {
        "colab": {
          "base_uri": "https://localhost:8080/"
        },
        "id": "aWy3MAUi8I__",
        "outputId": "6808fee1-ffda-4911-f05c-1180722f1b12"
      },
      "source": [
        "numeric_strings = np.array(['1.25', '-9.6', '42'], dtype=np.string_)\r\n",
        "\r\n",
        "numeric_strings.astype(float)"
      ],
      "execution_count": null,
      "outputs": [
        {
          "output_type": "execute_result",
          "data": {
            "text/plain": [
              "array([ 1.25, -9.6 , 42.  ])"
            ]
          },
          "metadata": {
            "tags": []
          },
          "execution_count": 42
        }
      ]
    },
    {
      "cell_type": "code",
      "metadata": {
        "colab": {
          "base_uri": "https://localhost:8080/"
        },
        "id": "UTkuV0bkLcov",
        "outputId": "8de2651e-6eb7-40fc-8f89-8d36b635ce87"
      },
      "source": [
        "int_array = np.arange(10)\r\n",
        "print(int_array)\r\n",
        "calibers = np.array([.22, .270, .357, .380, .44, .50], dtype=np.float64)\r\n",
        "\r\n",
        "print(int_array.astype(calibers.dtype))\r\n",
        "print(calibers.dtype)"
      ],
      "execution_count": null,
      "outputs": [
        {
          "output_type": "stream",
          "text": [
            "[0 1 2 3 4 5 6 7 8 9]\n",
            "[0. 1. 2. 3. 4. 5. 6. 7. 8. 9.]\n",
            "float64\n"
          ],
          "name": "stdout"
        }
      ]
    },
    {
      "cell_type": "markdown",
      "metadata": {
        "id": "AveQRAqHOLr_"
      },
      "source": [
        "### Arithmetic with Numpy Arrays\r\n",
        "- for문을 사용하지 않고 data를 처리함 이를 Vectorization 이라함\r\n",
        "- array 연산은 equal-size arrays 에 가능"
      ]
    },
    {
      "cell_type": "code",
      "metadata": {
        "colab": {
          "base_uri": "https://localhost:8080/"
        },
        "id": "8ezugHCPMKtO",
        "outputId": "0eb38985-a391-4b3f-eff2-3f1a5a97e844"
      },
      "source": [
        "arr = np.array([[1, 2, 3], [4, 5, 6]])\r\n",
        "arr"
      ],
      "execution_count": null,
      "outputs": [
        {
          "output_type": "execute_result",
          "data": {
            "text/plain": [
              "array([[1, 2, 3],\n",
              "       [4, 5, 6]])"
            ]
          },
          "metadata": {
            "tags": []
          },
          "execution_count": 48
        }
      ]
    },
    {
      "cell_type": "code",
      "metadata": {
        "colab": {
          "base_uri": "https://localhost:8080/"
        },
        "id": "ve4FyMftPK24",
        "outputId": "46e73432-446a-4290-b966-a4edc38748ed"
      },
      "source": [
        "arr * arr"
      ],
      "execution_count": null,
      "outputs": [
        {
          "output_type": "execute_result",
          "data": {
            "text/plain": [
              "array([[ 1,  4,  9],\n",
              "       [16, 25, 36]])"
            ]
          },
          "metadata": {
            "tags": []
          },
          "execution_count": 49
        }
      ]
    },
    {
      "cell_type": "code",
      "metadata": {
        "colab": {
          "base_uri": "https://localhost:8080/"
        },
        "id": "qiRmVxlgPR3f",
        "outputId": "619f7b18-da8b-49fc-c68f-fb8fc40e32f7"
      },
      "source": [
        "arr2 = np.array([[0., 4., 1.], [7., 2., 12.]])\r\n",
        "#arr2\r\n",
        "arr2 > arr"
      ],
      "execution_count": null,
      "outputs": [
        {
          "output_type": "execute_result",
          "data": {
            "text/plain": [
              "array([[False,  True, False],\n",
              "       [ True, False,  True]])"
            ]
          },
          "metadata": {
            "tags": []
          },
          "execution_count": 51
        }
      ]
    },
    {
      "cell_type": "markdown",
      "metadata": {
        "id": "QLVWaYifj5Ud"
      },
      "source": [
        "- Broadcasting : 크기가 다른 배열간의 연산"
      ]
    },
    {
      "cell_type": "markdown",
      "metadata": {
        "id": "Wotl7RfjkHx5"
      },
      "source": [
        "## Basic Indexing and Slicing"
      ]
    },
    {
      "cell_type": "code",
      "metadata": {
        "colab": {
          "base_uri": "https://localhost:8080/"
        },
        "id": "KpAOOlMBjt2O",
        "outputId": "31dbad58-06c1-49b6-ecf5-ba6f59280c2e"
      },
      "source": [
        "arr = np.arange(10)\r\n",
        "\r\n",
        "arr[5:9]"
      ],
      "execution_count": null,
      "outputs": [
        {
          "output_type": "execute_result",
          "data": {
            "text/plain": [
              "array([5, 6, 7, 8])"
            ]
          },
          "metadata": {
            "tags": []
          },
          "execution_count": 53
        }
      ]
    },
    {
      "cell_type": "code",
      "metadata": {
        "colab": {
          "base_uri": "https://localhost:8080/"
        },
        "id": "64Ec4N_PkfIV",
        "outputId": "5e102896-36ea-47b0-c5d0-3ea76bbb7630"
      },
      "source": [
        "arr"
      ],
      "execution_count": null,
      "outputs": [
        {
          "output_type": "execute_result",
          "data": {
            "text/plain": [
              "array([0, 1, 2, 3, 4, 5, 6, 7, 8, 9])"
            ]
          },
          "metadata": {
            "tags": []
          },
          "execution_count": 54
        }
      ]
    },
    {
      "cell_type": "code",
      "metadata": {
        "colab": {
          "base_uri": "https://localhost:8080/"
        },
        "id": "VWWVk5KgkonV",
        "outputId": "905a34a2-4025-4720-ed1b-f084d6b5f5c1"
      },
      "source": [
        "arr[5:8] = 12\r\n",
        "arr"
      ],
      "execution_count": null,
      "outputs": [
        {
          "output_type": "execute_result",
          "data": {
            "text/plain": [
              "array([ 0,  1,  2,  3,  4, 12, 12, 12,  8,  9])"
            ]
          },
          "metadata": {
            "tags": []
          },
          "execution_count": 56
        }
      ]
    },
    {
      "cell_type": "code",
      "metadata": {
        "colab": {
          "base_uri": "https://localhost:8080/"
        },
        "id": "mu8AKb1tmAbU",
        "outputId": "4d7b8ab0-f2c3-40e2-bc23-8ecc38a02d78"
      },
      "source": [
        "arr_slice = arr[5:8]\r\n",
        "arr_slice"
      ],
      "execution_count": null,
      "outputs": [
        {
          "output_type": "execute_result",
          "data": {
            "text/plain": [
              "array([12, 12, 12])"
            ]
          },
          "metadata": {
            "tags": []
          },
          "execution_count": 57
        }
      ]
    },
    {
      "cell_type": "code",
      "metadata": {
        "colab": {
          "base_uri": "https://localhost:8080/"
        },
        "id": "UOiSREVsmJvk",
        "outputId": "049d94d5-b56a-498d-c984-53a61bd85249"
      },
      "source": [
        "arr_slice[1] = 12345\r\n",
        "arr"
      ],
      "execution_count": null,
      "outputs": [
        {
          "output_type": "execute_result",
          "data": {
            "text/plain": [
              "array([    0,     1,     2,     3,     4,    12, 12345,    12,     8,\n",
              "           9])"
            ]
          },
          "metadata": {
            "tags": []
          },
          "execution_count": 58
        }
      ]
    },
    {
      "cell_type": "code",
      "metadata": {
        "colab": {
          "base_uri": "https://localhost:8080/"
        },
        "id": "8kSXPvNKmR2M",
        "outputId": "9cf74d84-db89-4cb8-9365-7e86f938fdd1"
      },
      "source": [
        "arr_slice[:] = 64\r\n",
        "arr"
      ],
      "execution_count": null,
      "outputs": [
        {
          "output_type": "execute_result",
          "data": {
            "text/plain": [
              "array([ 0,  1,  2,  3,  4, 64, 64, 64,  8,  9])"
            ]
          },
          "metadata": {
            "tags": []
          },
          "execution_count": 60
        }
      ]
    },
    {
      "cell_type": "code",
      "metadata": {
        "id": "Vlisk5Pome2E"
      },
      "source": [
        "arr_copy = arr[5:8].copy(), arr[0:2].copy()"
      ],
      "execution_count": null,
      "outputs": []
    },
    {
      "cell_type": "code",
      "metadata": {
        "colab": {
          "base_uri": "https://localhost:8080/"
        },
        "id": "JD0DMMfvvEj1",
        "outputId": "b1fc8933-e73a-44ab-c004-d6898f1183f1"
      },
      "source": [
        "arr_copy"
      ],
      "execution_count": null,
      "outputs": [
        {
          "output_type": "execute_result",
          "data": {
            "text/plain": [
              "(array([64, 64, 64]), array([0, 1]))"
            ]
          },
          "metadata": {
            "tags": []
          },
          "execution_count": 76
        }
      ]
    },
    {
      "cell_type": "markdown",
      "metadata": {
        "id": "AdClctPg4L75"
      },
      "source": [
        "### Transposing Arrays and Swapping Axes"
      ]
    },
    {
      "cell_type": "code",
      "metadata": {
        "colab": {
          "base_uri": "https://localhost:8080/"
        },
        "id": "-DnD57K8vGgr",
        "outputId": "b2569c5c-ec4f-4b0f-e363-6567c0125e9c"
      },
      "source": [
        "import numpy as np\r\n",
        "arr = np.arange(15).reshape((3, 5))\r\n",
        "arr"
      ],
      "execution_count": null,
      "outputs": [
        {
          "output_type": "execute_result",
          "data": {
            "text/plain": [
              "array([[ 0,  1,  2,  3,  4],\n",
              "       [ 5,  6,  7,  8,  9],\n",
              "       [10, 11, 12, 13, 14]])"
            ]
          },
          "metadata": {
            "tags": []
          },
          "execution_count": 2
        }
      ]
    },
    {
      "cell_type": "code",
      "metadata": {
        "colab": {
          "base_uri": "https://localhost:8080/"
        },
        "id": "Fgva41pF49xB",
        "outputId": "bb5216a2-d03a-49b1-89db-c34cb48959a3"
      },
      "source": [
        "arr.T"
      ],
      "execution_count": null,
      "outputs": [
        {
          "output_type": "execute_result",
          "data": {
            "text/plain": [
              "array([[ 0,  5, 10],\n",
              "       [ 1,  6, 11],\n",
              "       [ 2,  7, 12],\n",
              "       [ 3,  8, 13],\n",
              "       [ 4,  9, 14]])"
            ]
          },
          "metadata": {
            "tags": []
          },
          "execution_count": 3
        }
      ]
    },
    {
      "cell_type": "code",
      "metadata": {
        "colab": {
          "base_uri": "https://localhost:8080/"
        },
        "id": "0QdHwnqQ5Luh",
        "outputId": "46299faf-5d58-40db-ff7c-ed7539c50fcc"
      },
      "source": [
        "arr = np.random.randn(6, 3)\r\n",
        "arr"
      ],
      "execution_count": null,
      "outputs": [
        {
          "output_type": "execute_result",
          "data": {
            "text/plain": [
              "array([[ 1.44948839,  0.58907481,  0.93290798],\n",
              "       [-1.8606575 ,  3.13996357,  0.51577281],\n",
              "       [ 1.28802134, -0.28856379,  0.31879012],\n",
              "       [ 0.93492075,  0.32248247,  1.39836779],\n",
              "       [-0.16940067, -0.55772177, -0.77161558],\n",
              "       [-1.62004345, -0.71939266,  0.14150306]])"
            ]
          },
          "metadata": {
            "tags": []
          },
          "execution_count": 4
        }
      ]
    },
    {
      "cell_type": "code",
      "metadata": {
        "id": "HN5n_kjo5bJi",
        "colab": {
          "base_uri": "https://localhost:8080/"
        },
        "outputId": "4770263f-503f-486b-eb2b-9994333c39ec"
      },
      "source": [
        "np.dot(arr.T, arr)"
      ],
      "execution_count": null,
      "outputs": [
        {
          "output_type": "execute_result",
          "data": {
            "text/plain": [
              "array([[10.74937608, -3.79879463,  2.01200538],\n",
              "       [-3.79879463, 11.22222376,  2.85656878],\n",
              "       [ 2.01200538,  2.85656878,  3.80881222]])"
            ]
          },
          "metadata": {
            "tags": []
          },
          "execution_count": 5
        }
      ]
    },
    {
      "cell_type": "code",
      "metadata": {
        "id": "Z869t8Yn5fyq"
      },
      "source": [
        ""
      ],
      "execution_count": null,
      "outputs": []
    }
  ]
}