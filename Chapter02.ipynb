{
  "nbformat": 4,
  "nbformat_minor": 0,
  "metadata": {
    "colab": {
      "name": "Chapter02.ipynb",
      "provenance": [],
      "authorship_tag": "ABX9TyPeNJN68dUbdCSS2bgzv/Zd",
      "include_colab_link": true
    },
    "kernelspec": {
      "name": "python3",
      "display_name": "Python 3"
    }
  },
  "cells": [
    {
      "cell_type": "markdown",
      "metadata": {
        "id": "view-in-github",
        "colab_type": "text"
      },
      "source": [
        "<a href=\"https://colab.research.google.com/github/syscrypto/Python-for-Data-Analysis/blob/main/Chapter02.ipynb\" target=\"_parent\"><img src=\"https://colab.research.google.com/assets/colab-badge.svg\" alt=\"Open In Colab\"/></a>"
      ]
    },
    {
      "cell_type": "markdown",
      "metadata": {
        "id": "LPkOGFwGgbPW"
      },
      "source": [
        "# Python Language Basics, IPython and Jupyther Notebooks"
      ]
    },
    {
      "cell_type": "code",
      "metadata": {
        "id": "Uhni2Cm3frh-"
      },
      "source": [
        ""
      ],
      "execution_count": null,
      "outputs": []
    }
  ]
}